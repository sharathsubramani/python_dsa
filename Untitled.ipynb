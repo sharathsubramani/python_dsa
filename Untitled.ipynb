{
 "cells": [
  {
   "cell_type": "code",
   "execution_count": 1,
   "id": "deca2aeb-ff00-4754-894c-eb2a2f80d4d9",
   "metadata": {},
   "outputs": [
    {
     "name": "stdout",
     "output_type": "stream",
     "text": [
      "hello world\n"
     ]
    }
   ],
   "source": [
    "print(\"hello world\")"
   ]
  },
  {
   "cell_type": "code",
   "execution_count": 4,
   "id": "7152db0d-c548-4250-8a0c-8847d0638291",
   "metadata": {},
   "outputs": [
    {
     "name": "stdout",
     "output_type": "stream",
     "text": [
      "hello world\n"
     ]
    }
   ],
   "source": [
    "def say_hello():\n",
    "    print(\"hello world\")\n",
    "\n",
    "say_hello()"
   ]
  },
  {
   "cell_type": "code",
   "execution_count": 6,
   "id": "7d1d0842-5df3-41a7-a8b5-a2f3c384fc34",
   "metadata": {},
   "outputs": [
    {
     "name": "stdout",
     "output_type": "stream",
     "text": [
      "['s', 'h', 'a', 'r', 'a', 't', 'h']\n",
      "['h', 'h', '0', '0', '0', '0', '0']\n",
      "['a', '0', 'a', '0', '0', '0', '0']\n",
      "['r', '0', '0', 'r', '0', '0', '0']\n",
      "['a', '0', '0', '0', 'a', '0', '0']\n",
      "['t', '0', '0', '0', '0', 't', '0']\n",
      "['h', '0', '0', '0', '0', '0', 'h']\n"
     ]
    }
   ],
   "source": [
    "def insert_elements(name):\n",
    "    name = name\n",
    "    size = len(name)\n",
    "    matrix = [['0' for i in range(size)]for j in range(size)]\n",
    "    for i in range(size):\n",
    "        matrix[0][i] = name[i]\n",
    "    for i in range(size):\n",
    "        matrix[i][0] = name[i]\n",
    "    for i in range(size):\n",
    "        matrix[i][i] = name[i]\n",
    "    for row in matrix:\n",
    "        print(row)\n",
    "\n",
    "\n",
    "insert_elements('sharath')"
   ]
  },
  {
   "cell_type": "code",
   "execution_count": null,
   "id": "9b052316-222f-491c-80d4-7da23e768232",
   "metadata": {},
   "outputs": [],
   "source": []
  }
 ],
 "metadata": {
  "kernelspec": {
   "display_name": "Python 3 (ipykernel)",
   "language": "python",
   "name": "python3"
  },
  "language_info": {
   "codemirror_mode": {
    "name": "ipython",
    "version": 3
   },
   "file_extension": ".py",
   "mimetype": "text/x-python",
   "name": "python",
   "nbconvert_exporter": "python",
   "pygments_lexer": "ipython3",
   "version": "3.12.7"
  }
 },
 "nbformat": 4,
 "nbformat_minor": 5
}
